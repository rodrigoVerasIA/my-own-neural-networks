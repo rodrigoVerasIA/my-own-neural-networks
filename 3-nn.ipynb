{
 "cells": [
  {
   "cell_type": "code",
   "execution_count": 6,
   "id": "4202df87",
   "metadata": {},
   "outputs": [],
   "source": [
    "import numpy as np\n",
    "import matplotlib.pyplot as plt"
   ]
  },
  {
   "cell_type": "code",
   "execution_count": 17,
   "id": "f46d131e",
   "metadata": {},
   "outputs": [],
   "source": [
    "inputs_n = 784\n",
    "hidden_n = 100\n",
    "output_n = 10\n",
    "\n",
    "learning_rate = 0.01"
   ]
  },
  {
   "cell_type": "code",
   "execution_count": 9,
   "id": "05d678f9",
   "metadata": {},
   "outputs": [],
   "source": [
    "class NeuralNetwork:\n",
    "  def __init__(self, input_n, hidden_n, output_n, learning_rate=0.1):\n",
    "    # set number of nodes in each input, hidden and output layer\n",
    "    self.input_n = input_n\n",
    "    self.hidden_n = hidden_n\n",
    "    self.output_n = output_n\n",
    "\n",
    "    # learning rate\n",
    "    self.learning_rate = learning_rate\n",
    "\n",
    "    # weights between input and hidden layers\n",
    "    self.w_btw_input_hidden = np.random.normal(0.0, self.input_n**-0.5, (self.hidden_n, self.input_n))\n",
    "    # weights between hidden and output layers\n",
    "    self.w_btw_hidden_output = np.random.normal(0.0, self.hidden_n**-0.5, (self.output_n, self.hidden_n))\n",
    "\n",
    "    # activation functions\n",
    "    self.activation_function = lambda output: 1 / (1 + np.exp(-output)) # sigmoid function\n",
    "  pass\n",
    "\n",
    "  def train(self, inputs_list, targets_list):\n",
    "    # convert lists to 2d Array\n",
    "    inputs = np.array(inputs_list, ndmin=2).T\n",
    "    targets = np.array(targets_list, ndmin=2).T \n",
    "\n",
    "    # training process\n",
    "\n",
    "    # calculate signals into hidden layer\n",
    "    hidden_inputs = np.dot(self.w_btw_input_hidden, inputs) \n",
    "    # calculate the signals emerging from hidden layer\n",
    "    hidden_outputs = self.activation_function(hidden_inputs)\n",
    "    # calculate signals into final output layer\n",
    "    final_inputs = np.dot(self.w_btw_hidden_output, hidden_outputs)\n",
    "    # calculate the signals emerging from final output layer\n",
    "    final_outputs = self.activation_function(final_inputs)\n",
    "\n",
    "    # backpropagation error\n",
    "\n",
    "    # calculate the error\n",
    "    output_errors = targets - final_outputs\n",
    "    # hidden layer errors\n",
    "    hidden_errors = np.dot(self.w_btw_hidden_output.T, output_errors)\n",
    "\n",
    "    # update the weights between hidden and output layers\n",
    "    self.w_btw_hidden_output += self.learning_rate * np.dot(output_errors * final_outputs * (1 - final_outputs), hidden_outputs.T)\n",
    "    # update the weights between input and hidden layers\n",
    "    self.w_btw_input_hidden += self.learning_rate * np.dot(hidden_errors * hidden_outputs * (1 - hidden_outputs), inputs.T)\n",
    "\n",
    "    pass\n",
    "  \n",
    "  def query(self, inputs_list):\n",
    "    # convert inputs list to 2d Array\n",
    "    inputs = np.array(inputs_list, ndmin=2).T\n",
    "\n",
    "    # calculate signals into hidden layer\n",
    "    hidden_inputs = np.dot(self.w_btw_input_hidden, inputs)\n",
    "    # calculate the moderated signals emerging from hidden layer\n",
    "    hidden_outputs = self.activation_function(hidden_inputs)\n",
    "    # calculate signals into final output_layer\n",
    "    final_inputs = np.dot(self.w_btw_hidden_output, hidden_outputs)\n",
    "    # calculate the moderated signals emerging from final output layer\n",
    "    final_outputs = self.activation_function(final_inputs)\n",
    "\n",
    "    return final_outputs"
   ]
  },
  {
   "cell_type": "code",
   "execution_count": 4,
   "id": "eebe8510",
   "metadata": {},
   "outputs": [],
   "source": [
    "data_file  = open('mnist_datasets/mnist_train_100.csv', 'r')\n",
    "data_list = data_file.readlines()\n",
    "data_file.close()"
   ]
  },
  {
   "cell_type": "code",
   "execution_count": 7,
   "id": "8df3f9ee",
   "metadata": {},
   "outputs": [
    {
     "data": {
      "text/plain": [
       "<matplotlib.image.AxesImage at 0x7fd4dac03bb0>"
      ]
     },
     "execution_count": 7,
     "metadata": {},
     "output_type": "execute_result"
    },
    {
     "data": {
      "image/png": "[encoded data removed]",
      "text/plain": [
       "<Figure size 640x480 with 1 Axes>"
      ]
     },
     "metadata": {},
     "output_type": "display_data"
    }
   ],
   "source": [
    "all_values_from_list = data_list[0].split(',')\n",
    "image_pixels = np.asarray(all_values_from_list[1:], dtype=float).reshape((28, 28))\n",
    "plt.imshow(image_pixels, cmap='Greys', interpolation='None')"
   ]
  },
  {
   "cell_type": "code",
   "execution_count": 12,
   "id": "106c6c4a",
   "metadata": {},
   "outputs": [],
   "source": [
    "inputs = data_list[0].split(',')\n",
    "scaled_inputs = (np.asarray(inputs[1:], dtype=float) / 255.0 * 0.99) + 0.01\n",
    "\n",
    "targets = np.zeros(output_n) + 0.01\n",
    "targets[int(inputs[0])] = 0.99"
   ]
  },
  {
   "cell_type": "code",
   "execution_count": 20,
   "id": "f49f5f7c",
   "metadata": {},
   "outputs": [],
   "source": [
    "# Training\n",
    "nn = NeuralNetwork(inputs_n, hidden_n, output_n, learning_rate)\n",
    "\n",
    "data_training_files = open('mnist_datasets/mnist_train_100.csv', 'r')\n",
    "data_training_list = data_training_files.readlines()\n",
    "data_training_files.close()\n",
    "\n",
    "# training the neural network\n",
    "# go through each record in the training data\n",
    "epochs = 100\n",
    "for e in range(epochs):\n",
    "  for record in data_training_list:\n",
    "    inputs = record.split(',')\n",
    "    # scale and shift the inputs\n",
    "    scaled_inputs = (np.asarray(inputs[1:], dtype=float) / 255.0 * 0.99) + 0.01\n",
    "    # create the target output values (all 0.01, except the desired label which is 0.99)\n",
    "    scaled_targets = np.zeros(output_n) + 0.01\n",
    "    scaled_targets[int(inputs[0])] = 0.99\n",
    "\n",
    "    # train the neural network\n",
    "    nn.train(scaled_inputs, scaled_targets)\n",
    "  pass\n",
    "pass"
   ]
  },
  {
   "cell_type": "code",
   "execution_count": 21,
   "id": "34bf854c",
   "metadata": {},
   "outputs": [
    {
     "name": "stdout",
     "output_type": "stream",
     "text": [
      "Network's answer: 7, correct answer: 7\n",
      "Network's answer: 2, correct answer: 2\n",
      "Network's answer: 1, correct answer: 1\n",
      "Network's answer: 0, correct answer: 0\n",
      "Network's answer: 4, correct answer: 4\n",
      "Network's answer: 1, correct answer: 1\n",
      "Network's answer: 9, correct answer: 4\n",
      "Network's answer: 4, correct answer: 9\n",
      "Network's answer: 4, correct answer: 5\n",
      "Network's answer: 9, correct answer: 9\n",
      "Performance = 70.0%\n"
     ]
    }
   ],
   "source": [
    "# Testing\n",
    "data_test_files = open('mnist_datasets/mnist_test_10.csv', 'r')\n",
    "data_test_list = data_test_files.readlines()\n",
    "data_test_files.close()\n",
    "\n",
    "score_card = []\n",
    "# go through each record in the test data\n",
    "for record in data_test_list:\n",
    "  inputs = record.split(',')\n",
    "  correct_label = int(inputs[0])\n",
    "  # scale and shift the inputs\n",
    "  scaled_inputs = (np.asarray(inputs[1:], dtype=float) / 255.0 * 0.99) + 0.01\n",
    "  # query the neural network\n",
    "  outputs = nn.query(scaled_inputs)\n",
    "  # the index of the highest value corresponds to the label\n",
    "  label = np.argmax(outputs)\n",
    "  print(f\"Network's answer: {label}, correct answer: {correct_label}\")\n",
    "  if label == correct_label:\n",
    "    score_card.append(1)\n",
    "  else:\n",
    "    score_card.append(0)\n",
    "  pass\n",
    "print(f\"Performance = {np.mean(score_card) * 100}%\")\n",
    "pass\n"
   ]
  }
 ],
 "metadata": {
  "kernelspec": {
   "display_name": "iaenv-studies",
   "language": "python",
   "name": "python3"
  },
  "language_info": {
   "codemirror_mode": {
    "name": "ipython",
    "version": 3
   },
   "file_extension": ".py",
   "mimetype": "text/x-python",
   "name": "python",
   "nbconvert_exporter": "python",
   "pygments_lexer": "ipython3",
   "version": "3.10.16"
  }
 },
 "nbformat": 4,
 "nbformat_minor": 5
}
